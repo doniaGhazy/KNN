{
 "cells": [
  {
   "cell_type": "code",
   "execution_count": 1,
   "metadata": {},
   "outputs": [],
   "source": [
    "import nn as nb\n",
    "import data as data\n",
    "import numpy as np\n",
    "import os\n",
    "from numpy import asarray\n",
    "t_data=[]\n",
    "t_label=[]\n",
    "te_data=[]\n",
    "te_label=[]\n",
    "train_data=[]\n",
    "train_label=[]\n",
    "test_data=[]\n",
    "test_label=[]\n",
    "g_train=[]\n",
    "te_grey=[]\n",
    "grey_test=[]\n",
    "grey_train=[]\n",
    "NN = nb.nn()"
   ]
  },
  {
   "cell_type": "code",
   "execution_count": 2,
   "metadata": {},
   "outputs": [],
   "source": [
    "def loadData():\n",
    "    os.chdir(\"flower_photos\")\n",
    "    for root, dirs, files in os.walk(\".\", topdown = False):\n",
    "        for name in dirs:\n",
    "            final_training, final_test_data, test_label, training_label,grey_final_training, grey_final_test_data= data.process(os.path.join(root, name)[2:])\n",
    "            t_data.extend(final_training)\n",
    "            t_label.extend(training_label)\n",
    "            te_data.extend(final_test_data)\n",
    "            te_label.extend(test_label)\n",
    "            g_train.extend(grey_final_training)\n",
    "            te_grey.extend(grey_final_test_data)\n",
    "            train_label=np.array(t_label)\n",
    "            train_data=np.array(t_data)\n",
    "            test_data= np.array(te_data)\n",
    "            test_label= np.array(te_label)\n",
    "            grey_train= np.array(g_train)\n",
    "            grey_test= np.array(te_grey)\n",
    "            train_data = np.reshape(train_data, (train_data.shape[0], -1))\n",
    "            train_label= np.reshape(train_label, (train_label.shape[0],-1))\n",
    "            test_data= np.reshape(test_data,(test_data.shape[0],-1))\n",
    "            test_label= np.reshape(test_label,(test_label.shape[0],-1))\n",
    "            grey_train= np.reshape(grey_train,(grey_train.shape[0],-1))\n",
    "            grey_test= np.reshape(grey_test,(grey_test.shape[0],-1))\n",
    "\n",
    "    return train_data, train_label,test_data,test_label,grey_train, grey_test\n"
   ]
  },
  {
   "cell_type": "code",
   "execution_count": 3,
   "metadata": {},
   "outputs": [
    {
     "name": "stdout",
     "output_type": "stream",
     "text": [
      "\n",
      "\n",
      "\n",
      "\n",
      "\n",
      "[0.09, 0.83, 0.1, 0.29, 0.03]\n"
     ]
    }
   ],
   "source": [
    "train_data, train_label,test_data,test_label,grey_final_training, grey_final_test_data = loadData()   \n",
    "NN.train(train_data,train_label)\n",
    "Ytest = NN.predict(test_data , 23, 'L1')\n",
    "ccrn = data.ccrn(Ytest, test_label)\n",
    "print (ccrn)\n"
   ]
  },
  {
   "cell_type": "code",
   "execution_count": 4,
   "metadata": {},
   "outputs": [
    {
     "name": "stdout",
     "output_type": "stream",
     "text": [
      "CCRn\n",
      "0  :  0.09\n",
      "1  :  0.83\n",
      "2  :  0.1\n",
      "3  :  0.29\n",
      "4  :  0.03\n"
     ]
    }
   ],
   "source": [
    "print (\"CCRn\")\n",
    "for i in range(0,5):\n",
    "    print(i , \" : \", ccrn[i])\n"
   ]
  },
  {
   "cell_type": "code",
   "execution_count": 5,
   "metadata": {},
   "outputs": [
    {
     "name": "stdout",
     "output_type": "stream",
     "text": [
      "ACCRN 0.268\n"
     ]
    }
   ],
   "source": [
    "accrn = np.mean(ccrn)\n",
    "print(\"ACCRN\", accrn)"
   ]
  },
  {
   "cell_type": "code",
   "execution_count": 7,
   "metadata": {},
   "outputs": [
    {
     "name": "stdout",
     "output_type": "stream",
     "text": [
      "ACCRN 0.23200000000000004\n"
     ]
    }
   ],
   "source": [
    "#testing for the grey scale \n",
    "NN.train(grey_final_training,train_label)\n",
    "Ytest = NN.predict(grey_final_test_data , 23, 'L1')\n",
    "ccrn = data.ccrn(Ytest, test_label)\n",
    "accrn = np.mean(ccrn)\n",
    "print(\"ACCRN\", accrn)"
   ]
  },
  {
   "cell_type": "code",
   "execution_count": null,
   "metadata": {},
   "outputs": [],
   "source": []
  }
 ],
 "metadata": {
  "kernelspec": {
   "display_name": "Python 3",
   "language": "python",
   "name": "python3"
  },
  "language_info": {
   "codemirror_mode": {
    "name": "ipython",
    "version": 3
   },
   "file_extension": ".py",
   "mimetype": "text/x-python",
   "name": "python",
   "nbconvert_exporter": "python",
   "pygments_lexer": "ipython3",
   "version": "3.7.6"
  }
 },
 "nbformat": 4,
 "nbformat_minor": 4
}
